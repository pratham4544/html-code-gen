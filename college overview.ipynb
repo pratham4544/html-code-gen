{
 "cells": [
  {
   "cell_type": "code",
   "execution_count": 40,
   "id": "33e003fd",
   "metadata": {},
   "outputs": [],
   "source": [
    "from bs4 import BeautifulSoup\n",
    "import re\n",
    "import pyperclip"
   ]
  },
  {
   "cell_type": "code",
   "execution_count": 50,
   "id": "3263e00a",
   "metadata": {},
   "outputs": [
    {
     "name": "stdout",
     "output_type": "stream",
     "text": [
      "Copy & Paste HTML Code Here :\n",
      " <div style=\"background: #eee; border: 1px solid #ccc; padding: 5px 10px;\"><strong>Table of Content</strong> <ol style=\"margin-bottom: 0px;\" type=\"1\"> <li><a href=\"#1\">NIT Rourkela Placement 2023: Placement Statistics</a></li> <li><a href=\"#2\">NIT Rourkela Placements 2023: Department – Wise Package</a></li> <li><a href=\"#4\">NIT Rourkela Placement 2023: Highest Salary Trends </a></li> <li><a href=\"#5\">NIT Rourkela Placement 2023: Internship Data</a></li> <li><a href=\"#6\">NIT Rourkela Placement 2023: Top Recruiters</a></li> <li><a href=\"#7\">NIT Rourkela Placement 2023: FAQs</a></li> </ol>  <p style=\"margin-left: 40px; margin-bottom: 0px;\">3.1 <a href=\"#3\">NIT Rourkela Placements 2023: Course – Wise Package</a></p>  </div>     </div>     <div class=\"cdcms_ranking\">       <ol start=\"4\" style=\"list-style-type: decimal; margin-bottom: 0px;\" type=\"1\">         <h1>NIT Rourkela Placement 2023: Placement Statistics, Highest Package, Average Package, and Top Companies</h1> <p style=\"text-align: justify;\">The National Institute of Technology Rourkela offers a comprehensive range of undergraduate, postgraduate, and doctoral programs across various disciplines. The placement report for the year 2023 at NIT Rourkela has not yet been made public yet. As of placement drive 2022, NIT Rourkela had already completed its placement for the graduating batch. The NIT Rourkela placement record showed amazing growth where 325 companies participated in the previous year. The highest package offered at <a href=\"https://zollege.in/university/183581-national-institute-of-technology-nit-rourkela\" target=\"_blank\"><strong>NIT Rourkela</strong></a> was INR 46.08 LPA. The total number of new recruiters in the year 2022 was 100. The total number of offers made was 1274 during the NIT Rourkela placement. The batch passing out in 2022 had access to 403 internship opportunities. Top companies like Software, Manufacturing, Electronics, Software &amp; IT Services, Amazon, CitiBank, Bajaj Auto, Apple, Google, and VISA visited the campus for recruitment purposes.</p> <h2 id=\"1\">NIT Rourkela Placement 2023: Placement Statistics</h2> <p style=\"text-align: justify;\">The placement report for the year 2023 at NIT Rourkela has not been released yet. The following table presents the main highlights of NIT Rourkela placements for the graduating classes of 2021 and 2022.</p> <table class=\"table table-striped style_table\"> <tbody> <tr> <td> <p style=\"text-align: justify;\"><strong>Particulars</strong></p> </td> <td> <p style=\"text-align: justify;\"><strong>Placement Statistics 2022</strong></p> </td> <td> <p style=\"text-align: justify;\"><strong>Placement Statistics 2021</strong></p> </td> </tr> <tr> <td> <p style=\"text-align: justify;\">Highest CTC</p> </td> <td> <p style=\"text-align: justify;\">INR 46.08 LPA</p> </td> <td> <p style=\"text-align: justify;\">INR 48.84 LPA</p> </td> </tr> <tr> <td> <p style=\"text-align: justify;\">Average CTC</p> </td> <td> <p style=\"text-align: justify;\">-</p> </td> <td> <p style=\"text-align: justify;\">INR 11.15 LPA</p> </td> </tr> <tr> <td> <p style=\"text-align: justify;\">Minimum CTC</p> </td> <td> <p style=\"text-align: justify;\">-</p> </td> <td> <p style=\"text-align: justify;\">INR 2.60 LPA</p> </td> </tr> <tr> <td> <p style=\"text-align: justify;\">Total Offers</p> </td> <td> <p style=\"text-align: justify;\">1274</p> </td> <td> <p style=\"text-align: justify;\">1316</p> </td> </tr> <tr> <td> <p style=\"text-align: justify;\">Total Recruiters</p> </td> <td> <p style=\"text-align: justify;\">325</p> </td> <td> <p style=\"text-align: justify;\">-</p> </td> </tr> <tr> <td> <p style=\"text-align: justify;\">New Recruiters</p> </td> <td> <p style=\"text-align: justify;\">100</p> </td> <td> <p style=\"text-align: justify;\">-</p> </td> </tr> <tr> <td> <p style=\"text-align: justify;\">Top Recruiters</p> </td> <td> <p style=\"text-align: justify;\">Apple, Google, VISA, Oracle, Amazon, Microsoft</p> </td> <td> <p style=\"text-align: justify;\">Amazon, CitiBank, Bajaj Auto</p> </td> </tr> </tbody> </table> <h2 id=\"2\">NIT Rourkela Placements 2023: Department – Wise Package</h2> <p style=\"text-align: justify;\">The statistics for NIT Rourkela placements 2023 will be declared later. Meanwhile, candidates can check department-wise NIT Rourkela placement 2022. Given below is the average B.Tech CTC of NIT Rourkela CSE and EEE departments.</p> <table class=\"table table-striped style_table\"> <tbody> <tr> <td> <p style=\"text-align: justify;\"><strong>Course</strong></p> </td> <td> <p style=\"text-align: justify;\"><strong>Average CTC Offered 2022</strong></p> </td> </tr> <tr> <td> <p style=\"text-align: justify;\">CSE</p> </td> <td> <p style=\"text-align: justify;\">INR 20.11 LPA</p> </td> </tr> <tr> <td> <p style=\"text-align: justify;\">EEE</p> </td> <td> <p style=\"text-align: justify;\">INR 17.27 LPA</p> </td> </tr> </tbody> </table> <h3 id=\"3\">NIT Rourkela Placements 2023: Course – Wise Package</h3> <p style=\"text-align: justify;\">The course-wise placement for NIT Rourkela 2023 will be declared later. Meanwhile, candidates can check the NIT Rourkela average package, number of job offers, and highest package in the year 2021 to get an idea of NIT Rourkela placement statistics.</p> <table class=\"table table-striped style_table\"> <tbody> <tr> <td> <p style=\"text-align: justify;\"><strong>Programs</strong></p> </td> <td> <p style=\"text-align: justify;\"><strong>Job Offers</strong></p> </td> <td> <p style=\"text-align: justify;\"><strong>Average CTC</strong></p> </td> <td> <p style=\"text-align: justify;\"><strong>Highest CTC</strong></p> </td> </tr> <tr> <td> <p style=\"text-align: justify;\"><a href=\"https://zollege.in/courses/bachelor-of-technology-btech\" target=\"_blank\"><strong>B.Tech</strong></a></p> </td> <td> <p style=\"text-align: justify;\">786</p> </td> <td> <p style=\"text-align: justify;\">INR 12.56 LPA</p> </td> <td> <p style=\"text-align: justify;\">INR 48.84 LPA</p> </td> </tr> <tr> <td> <p style=\"text-align: justify;\">M.Tech</p> </td> <td> <p style=\"text-align: justify;\">410</p> </td> <td> <p style=\"text-align: justify;\">INR 9.69 LPA</p> </td> <td> <p style=\"text-align: justify;\">INR 46.08 LPA</p> </td> </tr> <tr> <td> <p style=\"text-align: justify;\"><a href=\"https://zollege.in/courses/master-of-business-administration-mba\" target=\"_blank\"><strong>MBA</strong></a></p> </td> <td> <p style=\"text-align: justify;\">19</p> </td> <td> <p style=\"text-align: justify;\">INR 5.79 LPA</p> </td> <td> <p style=\"text-align: justify;\">INR 7.60 LPA</p> </td> </tr> <tr> <td> <p style=\"text-align: justify;\"><a href=\"https://zollege.in/courses/master-of-science-msc\" target=\"_blank\"><strong>M.Sc</strong></a></p> </td> <td> <p style=\"text-align: justify;\">29</p> </td> <td> <p style=\"text-align: justify;\">INR 5.39 LPA</p> </td> <td> <p style=\"text-align: justify;\">INR 8.50 LPA</p> </td> </tr> <tr> <td> <p style=\"text-align: justify;\">Integrated M.Sc</p> </td> <td> <p style=\"text-align: justify;\">17</p> </td> <td> <p style=\"text-align: justify;\">INR 5.97 LPA</p> </td> <td> <p style=\"text-align: justify;\">INR 11.40 LPA</p> </td> </tr> <tr> <td> <p style=\"text-align: justify;\"><a href=\"https://zollege.in/courses/master-of-arts-ma\" target=\"_blank\"><strong>MA</strong></a></p> </td> <td> <p style=\"text-align: justify;\">3</p> </td> <td> <p style=\"text-align: justify;\">INR 5.53 LPA</p> </td> <td> <p style=\"text-align: justify;\">INR 7 LPA</p> </td> </tr> <tr> <td> <p style=\"text-align: justify;\"><a href=\"https://zollege.in/courses/phd\" target=\"_blank\"><strong>PhD</strong></a></p> </td> <td> <p style=\"text-align: justify;\">14</p> </td> <td> <p style=\"text-align: justify;\">INR 11.49 LPA</p> </td> <td> <p style=\"text-align: justify;\">INR 22.19 LPA</p> </td> </tr> </tbody> </table> <h2 id=\"4\">NIT Rourkela Placement 2023: Highest Salary Trends </h2> <p style=\"text-align: justify;\">When examining the highest package trends, NIT Rourkela placements have observed a downfall in the year 2022 compared to the other two years. The NIT Rourkela placement highest package 2023 is yet to be released. Though, in 2022 the highest package reached INR 46.08 LPA.</p> <table class=\"table table-striped style_table\"> <tbody> <tr> <td> <p style=\"text-align: justify;\"><strong>Particular</strong></p> </td> <td> <p style=\"text-align: justify;\"><strong>2022</strong></p> </td> <td> <p style=\"text-align: justify;\"><strong>2021</strong></p> </td> <td> <p style=\"text-align: justify;\"><strong>2020</strong></p> </td> </tr> <tr> <td> <p style=\"text-align: justify;\">Highest CTC </p> </td> <td> <p style=\"text-align: justify;\">INR 46.08 LPA</p> </td> <td> <p style=\"text-align: justify;\">INR 48.84 LPA</p> </td> <td> <p style=\"text-align: justify;\">INR 45 LPA</p> </td> </tr> </tbody> </table> <h2 id=\"5\">NIT Rourkela Placement 2023: Internship Data</h2> <p style=\"text-align: justify;\">NIT Rourkela internship data 2023 will be declared later. Meanwhile, candidates can check the previous year’s internship statistics. As per information from media sources, the students graduating in 2022 bagged a total of 403 internship opportunities at NIT Rourkela. The recruiters offered the highest stipend of INR 1.25 lakh per month to the interns. Given below is the NIT Rourkela internships for 2022.</p> <table class=\"table table-striped style_table\"> <tbody> <tr> <td> <p style=\"text-align: justify;\"><strong>Particulars</strong></p> </td> <td> <p style=\"text-align: justify;\"><strong>Statistics</strong></p> </td> </tr> <tr> <td> <p style=\"text-align: justify;\">Average Stipend</p> </td> <td> <p style=\"text-align: justify;\">INR 40,000 per month</p> </td> </tr> <tr> <td> <p style=\"text-align: justify;\">Highest Stipend</p> </td> <td> <p style=\"text-align: justify;\">INR 1.25 Lakhs per month</p> </td> </tr> <tr> <td> <p style=\"text-align: justify;\">Total Offers</p> </td> <td> <p style=\"text-align: justify;\">403</p> </td> </tr> </tbody> </table> <h2 id=\"6\">NIT Rourkela Placement 2023: Top Recruiters</h2> <p style=\"text-align: justify;\">Given below are the top 10 recruiters who visited the NIT Rourkela for recruitment purposes.</p> <div> </div><div class=\"cdcms_faqs\"> <h2 id=\"7\">NIT Rourkela Placement 2023: FAQs</h2> <div id=\"faq_id\"> </div><p class=\"accordio\" style=\"text-align: justify;\"><strong>Ques. What is the highest package offered during NIT Rourkela placement MTech?</strong></p><div class=\"liv\"> <div> <p style=\"text-align: justify;\"><strong>Ans</strong>. The highest package offered is INR 46.08 LPA for the NIT Rourkela <a href=\"https://zollege.in/courses/master-of-technology-mtech\" target=\"_blank\"><strong>MTech</strong></a> course in the year 2021.</p> </div> </div><p class=\"accordio\" style=\"text-align: justify;\"><strong>Ques. What is the average package offered during NIT Rourkela MBA placement?</strong></p><div class=\"liv\"> <div> <p style=\"text-align: justify;\"><strong>Ans</strong>. The NIT Rourkela MBA average package is INR 7-8 LPA in the year 2022.</p> </div> </div><p class=\"accordio\" style=\"text-align: justify;\"><strong>Ques. What is the highest package offered during NIT Rourkela MTech CSE placements?</strong></p><div class=\"liv\"> <div> <p style=\"text-align: justify;\"><strong>Ans</strong>. The highest package offered in NIT Rourkela Placements CSE is INR 20.11 LPA in the year 2022.</p> </div> </div><p class=\"accordio\" style=\"text-align: justify;\"><strong>Ques. What is the average package offered during NIT Rourkela Electrical Engineering placements?</strong></p><div class=\"liv\"> <div> <p style=\"text-align: justify;\"><strong>Ans</strong>. In the year 2022, the average package offered in the Electrical Engineering department is INR 17.27 LPA. </p> </div> </div><p class=\"accordio\" style=\"text-align: justify;\"><strong>Ques. How many new recruiters are there during the NIT Rourkela MTech placement 2022?</strong></p><div class=\"liv\"> <div> <p style=\"text-align: justify;\"><strong>Ans</strong>. A total of 100 new recruiters are there during the NIT Rourkela MTech placement in the year 2022. </p> </div> </div><p class=\"accordio\" style=\"text-align: justify;\"><strong>Ques. What was the highest package offered in NIT Rourkela MSc mathematics placements?</strong></p><div class=\"liv\"> <div> <p style=\"text-align: justify;\"><strong>Ans</strong>. The NIT Rourkela highest package offered in MSc mathematics in the year 2021 is INR 8.50 LPA.</p> </div> </div><p class=\"accordio\" style=\"text-align: justify;\"><strong>Ques. What was the NIT Rourkela placement record for the internship in 2022 at the institution?</strong></p><div class=\"liv\"> <div> <p style=\"text-align: justify;\"><strong>Ans</strong>. The students graduating in 2022 were presented with a total of 403 internship opportunities at NIT Rourkela. The recruiters offered the highest stipend of INR 1.25 lakh per month to the interns.</p> </div> </div><p class=\"accordio\" style=\"text-align: justify;\"><strong>Ques. Who are the top recruiters of NIT Rourkela?</strong></p><div class=\"liv\"> <div> <p style=\"text-align: justify;\"><strong>Ans</strong>. The top recruiters like Apple, Google, VISA, Oracle, Amazon, Microsoft</p> <p style=\"text-align: justify;\">Amazon, CitiBank, Bajaj Auto, etc visit the NIT Rourkela campus for recruitment purposes.</p> </div> </div></div> \n"
     ]
    },
    {
     "data": {
      "text/plain": [
       "'<div style=\"background: #eee; border: 1px solid #ccc; padding: 5px 10px;\"><strong>Table of Content</strong> <ol style=\"margin-bottom: 0px;\" type=\"1\"> <li><a href=\"#1\">NIT Rourkela Placement 2023: Placement Statistics</a></li> <li><a href=\"#2\">NIT Rourkela Placements 2023: Department – Wise Package</a></li> <li><a href=\"#4\">NIT Rourkela Placement 2023: Highest Salary Trends\\xa0</a></li> <li><a href=\"#5\">NIT Rourkela Placement 2023: Internship Data</a></li> <li><a href=\"#6\">NIT Rourkela Placement 2023: Top Recruiters</a></li> <li><a href=\"#7\">NIT Rourkela Placement 2023: FAQs</a></li> </ol>  <p style=\"margin-left: 40px; margin-bottom: 0px;\">3.1 <a href=\"#3\">NIT Rourkela Placements 2023: Course – Wise Package</a></p>  </div>     </div>     <div class=\"cdcms_ranking\">       <ol start=\"4\" style=\"list-style-type: decimal; margin-bottom: 0px;\" type=\"1\">         <h1>NIT Rourkela Placement 2023: Placement Statistics, Highest Package, Average Package, and Top Companies</h1> <p style=\"text-align: justify;\">The National Institute of Technology Rourkela offers a comprehensive range of undergraduate, postgraduate, and doctoral programs across various disciplines. The placement report for the year 2023 at NIT Rourkela has not yet been made public yet. As of placement drive 2022, NIT Rourkela had already completed its placement for the graduating batch. The NIT Rourkela placement record showed amazing growth where 325 companies participated in the previous year. The highest package offered at <a href=\"https://zollege.in/university/183581-national-institute-of-technology-nit-rourkela\" target=\"_blank\"><strong>NIT Rourkela</strong></a> was INR 46.08 LPA. The total number of new recruiters in the year 2022 was 100. The total number of offers made was 1274 during the NIT Rourkela placement. The batch passing out in 2022 had access to 403 internship opportunities. Top companies like Software, Manufacturing, Electronics, Software &amp; IT Services, Amazon, CitiBank, Bajaj Auto, Apple, Google, and VISA visited the campus for recruitment purposes.</p> <h2 id=\"1\">NIT Rourkela Placement 2023: Placement Statistics</h2> <p style=\"text-align: justify;\">The placement report for the year 2023 at NIT Rourkela has not been released yet. The following table presents the main highlights of NIT Rourkela placements for the graduating classes of 2021 and 2022.</p> <table class=\"table table-striped style_table\"> <tbody> <tr> <td> <p style=\"text-align: justify;\"><strong>Particulars</strong></p> </td> <td> <p style=\"text-align: justify;\"><strong>Placement Statistics 2022</strong></p> </td> <td> <p style=\"text-align: justify;\"><strong>Placement Statistics 2021</strong></p> </td> </tr> <tr> <td> <p style=\"text-align: justify;\">Highest CTC</p> </td> <td> <p style=\"text-align: justify;\">INR 46.08 LPA</p> </td> <td> <p style=\"text-align: justify;\">INR 48.84 LPA</p> </td> </tr> <tr> <td> <p style=\"text-align: justify;\">Average CTC</p> </td> <td> <p style=\"text-align: justify;\">-</p> </td> <td> <p style=\"text-align: justify;\">INR 11.15 LPA</p> </td> </tr> <tr> <td> <p style=\"text-align: justify;\">Minimum CTC</p> </td> <td> <p style=\"text-align: justify;\">-</p> </td> <td> <p style=\"text-align: justify;\">INR 2.60 LPA</p> </td> </tr> <tr> <td> <p style=\"text-align: justify;\">Total Offers</p> </td> <td> <p style=\"text-align: justify;\">1274</p> </td> <td> <p style=\"text-align: justify;\">1316</p> </td> </tr> <tr> <td> <p style=\"text-align: justify;\">Total Recruiters</p> </td> <td> <p style=\"text-align: justify;\">325</p> </td> <td> <p style=\"text-align: justify;\">-</p> </td> </tr> <tr> <td> <p style=\"text-align: justify;\">New Recruiters</p> </td> <td> <p style=\"text-align: justify;\">100</p> </td> <td> <p style=\"text-align: justify;\">-</p> </td> </tr> <tr> <td> <p style=\"text-align: justify;\">Top Recruiters</p> </td> <td> <p style=\"text-align: justify;\">Apple, Google, VISA, Oracle, Amazon, Microsoft</p> </td> <td> <p style=\"text-align: justify;\">Amazon, CitiBank, Bajaj Auto</p> </td> </tr> </tbody> </table> <h2 id=\"2\">NIT Rourkela Placements 2023: Department – Wise Package</h2> <p style=\"text-align: justify;\">The statistics for NIT Rourkela placements 2023 will be declared later. Meanwhile, candidates can check department-wise NIT Rourkela placement 2022. Given below is the average B.Tech CTC of NIT Rourkela CSE and EEE departments.</p> <table class=\"table table-striped style_table\"> <tbody> <tr> <td> <p style=\"text-align: justify;\"><strong>Course</strong></p> </td> <td> <p style=\"text-align: justify;\"><strong>Average CTC Offered 2022</strong></p> </td> </tr> <tr> <td> <p style=\"text-align: justify;\">CSE</p> </td> <td> <p style=\"text-align: justify;\">INR 20.11 LPA</p> </td> </tr> <tr> <td> <p style=\"text-align: justify;\">EEE</p> </td> <td> <p style=\"text-align: justify;\">INR 17.27 LPA</p> </td> </tr> </tbody> </table> <h3 id=\"3\">NIT Rourkela Placements 2023: Course – Wise Package</h3> <p style=\"text-align: justify;\">The course-wise placement for NIT Rourkela 2023 will be declared later. Meanwhile, candidates can check the NIT Rourkela average package, number of job offers, and highest package in the year 2021 to get an idea of NIT Rourkela placement statistics.</p> <table class=\"table table-striped style_table\"> <tbody> <tr> <td> <p style=\"text-align: justify;\"><strong>Programs</strong></p> </td> <td> <p style=\"text-align: justify;\"><strong>Job Offers</strong></p> </td> <td> <p style=\"text-align: justify;\"><strong>Average CTC</strong></p> </td> <td> <p style=\"text-align: justify;\"><strong>Highest CTC</strong></p> </td> </tr> <tr> <td> <p style=\"text-align: justify;\"><a href=\"https://zollege.in/courses/bachelor-of-technology-btech\" target=\"_blank\"><strong>B.Tech</strong></a></p> </td> <td> <p style=\"text-align: justify;\">786</p> </td> <td> <p style=\"text-align: justify;\">INR 12.56 LPA</p> </td> <td> <p style=\"text-align: justify;\">INR 48.84 LPA</p> </td> </tr> <tr> <td> <p style=\"text-align: justify;\">M.Tech</p> </td> <td> <p style=\"text-align: justify;\">410</p> </td> <td> <p style=\"text-align: justify;\">INR 9.69 LPA</p> </td> <td> <p style=\"text-align: justify;\">INR 46.08 LPA</p> </td> </tr> <tr> <td> <p style=\"text-align: justify;\"><a href=\"https://zollege.in/courses/master-of-business-administration-mba\" target=\"_blank\"><strong>MBA</strong></a></p> </td> <td> <p style=\"text-align: justify;\">19</p> </td> <td> <p style=\"text-align: justify;\">INR 5.79 LPA</p> </td> <td> <p style=\"text-align: justify;\">INR 7.60 LPA</p> </td> </tr> <tr> <td> <p style=\"text-align: justify;\"><a href=\"https://zollege.in/courses/master-of-science-msc\" target=\"_blank\"><strong>M.Sc</strong></a></p> </td> <td> <p style=\"text-align: justify;\">29</p> </td> <td> <p style=\"text-align: justify;\">INR 5.39 LPA</p> </td> <td> <p style=\"text-align: justify;\">INR 8.50 LPA</p> </td> </tr> <tr> <td> <p style=\"text-align: justify;\">Integrated M.Sc</p> </td> <td> <p style=\"text-align: justify;\">17</p> </td> <td> <p style=\"text-align: justify;\">INR 5.97 LPA</p> </td> <td> <p style=\"text-align: justify;\">INR 11.40 LPA</p> </td> </tr> <tr> <td> <p style=\"text-align: justify;\"><a href=\"https://zollege.in/courses/master-of-arts-ma\" target=\"_blank\"><strong>MA</strong></a></p> </td> <td> <p style=\"text-align: justify;\">3</p> </td> <td> <p style=\"text-align: justify;\">INR 5.53 LPA</p> </td> <td> <p style=\"text-align: justify;\">INR 7 LPA</p> </td> </tr> <tr> <td> <p style=\"text-align: justify;\"><a href=\"https://zollege.in/courses/phd\" target=\"_blank\"><strong>PhD</strong></a></p> </td> <td> <p style=\"text-align: justify;\">14</p> </td> <td> <p style=\"text-align: justify;\">INR 11.49 LPA</p> </td> <td> <p style=\"text-align: justify;\">INR 22.19 LPA</p> </td> </tr> </tbody> </table> <h2 id=\"4\">NIT Rourkela Placement 2023: Highest Salary Trends\\xa0</h2> <p style=\"text-align: justify;\">When examining the highest package trends, NIT Rourkela placements have observed a downfall in the year 2022 compared to the other two years. The NIT Rourkela placement highest package 2023 is yet to be released. Though, in 2022 the highest package reached INR 46.08 LPA.</p> <table class=\"table table-striped style_table\"> <tbody> <tr> <td> <p style=\"text-align: justify;\"><strong>Particular</strong></p> </td> <td> <p style=\"text-align: justify;\"><strong>2022</strong></p> </td> <td> <p style=\"text-align: justify;\"><strong>2021</strong></p> </td> <td> <p style=\"text-align: justify;\"><strong>2020</strong></p> </td> </tr> <tr> <td> <p style=\"text-align: justify;\">Highest CTC\\xa0</p> </td> <td> <p style=\"text-align: justify;\">INR 46.08 LPA</p> </td> <td> <p style=\"text-align: justify;\">INR 48.84 LPA</p> </td> <td> <p style=\"text-align: justify;\">INR 45 LPA</p> </td> </tr> </tbody> </table> <h2 id=\"5\">NIT Rourkela Placement 2023: Internship Data</h2> <p style=\"text-align: justify;\">NIT Rourkela internship data 2023 will be declared later. Meanwhile, candidates can check the previous year’s internship statistics. As per information from media sources, the students graduating in 2022 bagged a total of 403 internship opportunities at NIT Rourkela. The recruiters offered the highest stipend of INR 1.25 lakh per month to the interns. Given below is the NIT Rourkela internships for 2022.</p> <table class=\"table table-striped style_table\"> <tbody> <tr> <td> <p style=\"text-align: justify;\"><strong>Particulars</strong></p> </td> <td> <p style=\"text-align: justify;\"><strong>Statistics</strong></p> </td> </tr> <tr> <td> <p style=\"text-align: justify;\">Average Stipend</p> </td> <td> <p style=\"text-align: justify;\">INR 40,000 per month</p> </td> </tr> <tr> <td> <p style=\"text-align: justify;\">Highest Stipend</p> </td> <td> <p style=\"text-align: justify;\">INR 1.25 Lakhs per month</p> </td> </tr> <tr> <td> <p style=\"text-align: justify;\">Total Offers</p> </td> <td> <p style=\"text-align: justify;\">403</p> </td> </tr> </tbody> </table> <h2 id=\"6\">NIT Rourkela Placement 2023: Top Recruiters</h2> <p style=\"text-align: justify;\">Given below are the top 10 recruiters who visited the NIT Rourkela for recruitment purposes.</p> <div> </div><div class=\"cdcms_faqs\"> <h2 id=\"7\">NIT Rourkela Placement 2023: FAQs</h2> <div id=\"faq_id\"> </div><p class=\"accordio\" style=\"text-align: justify;\"><strong>Ques. What is the highest package offered during NIT Rourkela placement MTech?</strong></p><div class=\"liv\"> <div> <p style=\"text-align: justify;\"><strong>Ans</strong>. The highest package offered is INR 46.08 LPA for the NIT Rourkela <a href=\"https://zollege.in/courses/master-of-technology-mtech\" target=\"_blank\"><strong>MTech</strong></a> course in the year 2021.</p> </div> </div><p class=\"accordio\" style=\"text-align: justify;\"><strong>Ques. What is the average package offered during NIT Rourkela MBA placement?</strong></p><div class=\"liv\"> <div> <p style=\"text-align: justify;\"><strong>Ans</strong>. The NIT Rourkela MBA average package is INR 7-8 LPA in the year 2022.</p> </div> </div><p class=\"accordio\" style=\"text-align: justify;\"><strong>Ques. What is the highest package offered during NIT Rourkela MTech CSE placements?</strong></p><div class=\"liv\"> <div> <p style=\"text-align: justify;\"><strong>Ans</strong>. The highest package offered in NIT Rourkela Placements CSE is INR 20.11 LPA in the year 2022.</p> </div> </div><p class=\"accordio\" style=\"text-align: justify;\"><strong>Ques. What is the average package offered during NIT Rourkela Electrical Engineering placements?</strong></p><div class=\"liv\"> <div> <p style=\"text-align: justify;\"><strong>Ans</strong>. In the year 2022, the average package offered in the Electrical Engineering department is INR 17.27 LPA.\\xa0</p> </div> </div><p class=\"accordio\" style=\"text-align: justify;\"><strong>Ques. How many new recruiters are there during the NIT Rourkela MTech placement 2022?</strong></p><div class=\"liv\"> <div> <p style=\"text-align: justify;\"><strong>Ans</strong>. A total of 100 new recruiters are there during the NIT Rourkela MTech placement in the year 2022.\\xa0</p> </div> </div><p class=\"accordio\" style=\"text-align: justify;\"><strong>Ques. What was the highest package offered in NIT Rourkela MSc mathematics placements?</strong></p><div class=\"liv\"> <div> <p style=\"text-align: justify;\"><strong>Ans</strong>. The NIT Rourkela highest package offered in MSc mathematics in the year 2021 is INR 8.50 LPA.</p> </div> </div><p class=\"accordio\" style=\"text-align: justify;\"><strong>Ques. What was the NIT Rourkela placement record for the internship in 2022 at the institution?</strong></p><div class=\"liv\"> <div> <p style=\"text-align: justify;\"><strong>Ans</strong>. The students graduating in 2022 were presented with a total of 403 internship opportunities at NIT Rourkela. The recruiters offered the highest stipend of INR 1.25 lakh per month to the interns.</p> </div> </div><p class=\"accordio\" style=\"text-align: justify;\"><strong>Ques. Who are the top recruiters of NIT Rourkela?</strong></p><div class=\"liv\"> <div> <p style=\"text-align: justify;\"><strong>Ans</strong>. The top recruiters like Apple, Google, VISA, Oracle, Amazon, Microsoft</p> <p style=\"text-align: justify;\">Amazon, CitiBank, Bajaj Auto, etc visit the NIT Rourkela campus for recruitment purposes.</p> </div> </div></div> '"
      ]
     },
     "execution_count": 50,
     "metadata": {},
     "output_type": "execute_result"
    }
   ],
   "source": [
    "clean = input('Copy & Paste HTML Code Here :\\n ')\n",
    "clean"
   ]
  },
  {
   "cell_type": "code",
   "execution_count": 51,
   "id": "b9632737",
   "metadata": {},
   "outputs": [],
   "source": [
    "def clean_html(clean):\n",
    "\n",
    "    zero = re.sub('<td>\\<p>(.*?)</p><p>(.*?)</p></td>','<th>\\\\1</<br />\\\\2</th>',clean)\n",
    "    clean_code = zero.replace(\"<table>\",'<table class=\"table table-striped style_table\">')\n",
    "    one_clean = clean_code.replace('?</p>','?</strong></p><div class=\"liv\">')\n",
    "    two_clean = one_clean.replace('<p>Ques','</div><p class=\"accordio\" style=\"text-align: justify;\"><strong>Ques')\n",
    "    three_clean = two_clean.replace('<td><p>','<td>')\n",
    "    four_clean = three_clean.replace('</p></td>','</td>')\n",
    "    five_clean  = four_clean.replace('\\n','')\n",
    "    five_clean_1 = five_clean.replace('<li>','<li style=\"text-align: left;\">')\n",
    "    five_clean_2 = five_clean_1.replace('<p>','<p style=\"text-align: justify;\">')\n",
    "    five_clean_3 = five_clean_2.replace('<td><strong>','<th>')\n",
    "    five_clean_4 = five_clean_3.replace('</strong></td>','</th>')\n",
    "    six_clean = five_clean_4.replace('<table>','<table class=\"table table-striped style_table\">')\n",
    "    seven = six_clean.replace('<h2>','\\n\\n\\n<h2>')\n",
    "    eight = seven.replace('<h3>','\\n\\n\\n<h3>')\n",
    "    \n",
    "    nine = re.sub('<h2>(.*?) Courses and Eligibility</h2>', '</div><div class=\"cdcms_courses\">\\n<h2>\\\\1 Courses and Eligibility</h2>', eight)\n",
    "    ten = re.sub('<h2>(.*?) FAQs</h2>','</div><div class=\"cdcms_faqs\">\\n<h2>\\\\1 FAQs</h2>', nine)\n",
    "    eleven = re.sub('<h2>(.*?) Cutoff 2023</h2>','</div><div class=\"cdcms_cut_off\">\\n<h2> \\\\1 Cutoff 2023</h2>', ten)\n",
    "    tweleve = eleven.replace('FAQs</h2>','FAQs</h2>\\n<div id=\"faq_id\">')\n",
    "    thirteen = re.sub('<h2>(.*?) Important Dates</h2>','<div style=\"background: #eee; border: 1px solid #ccc; padding: 5px 10px;\"><strong>Table of Content</strong>\\n\\n<ol style=\"margin-bottom: 0px;\" type=\"1\">\\n\\t<li><a href=\"#1\">RTMNU Nagpur Admission 2023: Important Dates </a></li>\\n\\t<li><a href=\"#2\">RTMNU Nagpur Admission 2023: Courses &amp; Eligibility </a></li>\\n\\t<li><a href=\"#3\">RTMNU Nagpur Admission 2023: Cut Off 2023 </a></li>\\n</ol>\\n\\n<p style=\"margin-left: 40px; margin-bottom: 0px;\">3.1&nbsp;<a href=\"#4\">MHT-CET Cutoff 2022</a></p>\\n\\n<p style=\"margin-left: 40px; margin-bottom: 0px;\">3.2&nbsp;<a href=\"#5\">MAH-MCA-CET Cutoff 2022</a></p>\\n\\n<ol start=\"4\" style=\"list-style-type: decimal; margin-bottom: 0px;\" type=\"1\">\\n\\t<li><a href=\"#6\">RTMNU Nagpur Admission 2023: FAQs </a></li>\\n</ol>\\n</div>\\n</div>\\n\\n<div class=\"cdcms_section1\">\\n<h2>\\\\1 Admission 2023: Important Dates</h2>', tweleve)\n",
    "    fourteen = re.sub('Ans','<strong>Ans</strong>', thirteen)\n",
    "    fourteen_1 = fourteen.replace('<td><strong>','<th>')\n",
    "    fourteen_2 = fourteen_1.replace('</strong></td>','</th>')\n",
    "    \n",
    "    fourteen_31 = re.sub('<h2>(.*?) Highlights</h2>','<div class=\"cdcms_college_highlights\">\\n<h2> \\\\1 Highlights</h2>', fourteen_2)\n",
    "    fourteen_3 = re.sub('<h2>(.*?) Rankings</h2>','</div><div class=\"cdcms_ranking\">\\n<h2> \\\\1 Rankings</h2>', fourteen_31)\n",
    "    fourteen_4 = re.sub('<h2>(.*?) Courses &amp; Fees</h2>','</div><div class=\"cdcms_courses\">\\n<h2> \\\\1 Courses &amp; Fees</h2>', fourteen_3)\n",
    "    fourteen_5 = re.sub('<h2>(.*?) Cutoff</h2>','</div><div class=\"cdcms_cut_off\">\\n<h2> \\\\1 Cutoff</h2>', fourteen_4)\n",
    "    fourteen_6 = re.sub('<h2>(.*?) Placement</h2>','</div><div class=\"cdcms_placement\">\\n<h2> \\\\1 Placement</h2>', fourteen_5)\n",
    "    fourteen_7 = re.sub('<h2>(.*?) Scholarships</h2>','</div><div class=\"cdcms_scholarships\">\\n<h2> \\\\1 Scholarships</h2>', fourteen_6)\n",
    "    fourteen_8 = re.sub('<h2>(.*?) Facilities</h2>','</div><div class=\"cdcms_section1\">\\n<h2> \\\\1 Facilities</h2>', fourteen_7)\n",
    "    fourteen_9 = re.sub('<h2>Comparison:','</div><div class=\"cdcms_comparison\">\\n<h2> Comparison: ', fourteen_8)\n",
    "    fourteen_10 = fourteen_9.replace('<p style=\"text-align: justify;\"><strong>Ques','</div><p class=\"accordio\" style=\"text-align: justify;\"><strong>Ques')\n",
    "    fourteen_11 = fourteen_10.replace('?</strong></p>','?</strong></p><div class=\"liv\">')\n",
    "    fourteen_12 = re.sub('<h2>(.*?) Ranking</h2>','</div><div class=\"cdcms_ranking\">\\n<h2> \\\\1 Rankings</h2>', fourteen_11)\n",
    "    fourteen_13 = re.sub('<h2>(.*?) Placements</h2>','</div><div class=\"cdcms_placement\">\\n<h2> \\\\1 Placements</h2>', fourteen_12)\n",
    "    fourteen_14 = re.sub('<h2>(.*?) and Fees</h2>','</div><div class=\"cdcms_courses\">\\n<h2> \\\\1 and Fees</h2>', fourteen_13)\n",
    "    fourteen_15 = re.sub('<h2>(.*?) Scholarship</h2>','</div><div class=\"cdcms_scholarships\">\\n<h2> \\\\1 Scholarships</h2>', fourteen_14)\n",
    "    fourteen_16 = fourteen_15.replace('<br/>','')\n",
    "    fourteen_17 = fourteen_16.replace('<p></p>','')\n",
    "    fourteen_18 = fourteen_17.replace('<div class=\"liv\"><div class=\"liv\">','<div class=\"liv\">')\n",
    "    fourteen_19 = fourteen_18.replace('<div id=\"faq_id\"></div>','<div id=\"faq_id\">')\n",
    "    fourteen_20 = re.sub('<h2>(.*?) Facilities</h2>','</div><div class=\"cdcms_section1\">\\n<h2> \\\\1 Facilities</h2>',fourteen_19)\n",
    "    \n",
    "    \n",
    "    fifteen = re.sub('<h1>','<div class=\"cdcms_section2\">\\n<h1>', fourteen_20)\n",
    "    fifteen = re.sub('<h2>(.*?) Vs (.*?)</h2>','</div><div class=\"cdcms_comparison\">\\n<h2>\\\\1 Vs \\\\2', fourteen_20)\n",
    "    fifteen = re.sub('<h2>(.*?) VS (.*?)</h2>','</div><div class=\"cdcms_comparison\">\\n<h2>\\\\1 Vs \\\\2', fourteen_20)\n",
    "    fifteen = re.sub('<h2>(.*?) vs (.*?)</h2>','</div><div class=\"cdcms_comparison\">\\n<h2>\\\\1 vs \\\\2', fourteen_20)\n",
    "    fifteen = re.sub('</div><div class=\"cdcms_section1\">\\n</div><div class=\"cdcms_section1\">','</div><div class=\"cdcms_section1\">\\n',fifteen)\n",
    "    return fifteen   \n",
    "\n",
    "def increment_id(match):\n",
    "    global count\n",
    "    count += 1\n",
    "    tag_name = match.group(1)\n",
    "    return f'<{tag_name} id=\"{count}\">'\n",
    "\n",
    "def toc_create(soup):\n",
    "    toc = ''\n",
    "    \n",
    "    headings = soup.find_all('h2')\n",
    "    \n",
    "    for heading in headings:\n",
    "        toc+= f'<li><a href=\"#{heading.get(\"id\")}\">{heading.text}</a></li>\\n'\n",
    "    toc += '</ol>\\n'\n",
    "    \n",
    "\n",
    "    heading_2 = soup.find_all('h3')\n",
    "    toc_2 = '\\n'\n",
    "    for heading in heading_2:\n",
    "        toc_2+= f'<p style=\"margin-left: 40px; margin-bottom: 0px;\">3.1 <a href=\"#{heading.get(\"id\")}\">{heading.text}</a></p>\\n\\n'\n",
    "    \n",
    "\n",
    "\n",
    "\n",
    "    con = '<div style=\"background: #eee; border: 1px solid #ccc; padding: 5px 10px;\"><strong>Table of Content</strong>\\n<ol style=\"margin-bottom: 0px;\" type=\"1\">\\n'\n",
    "    cat = '''</div>\n",
    "    </div>\n",
    "    <div class=\"cdcms_ranking\">\n",
    "\n",
    "\n",
    "    <ol start=\"4\" style=\"list-style-type: decimal; margin-bottom: 0px;\" type=\"1\">\n",
    "\n",
    "\n",
    "    '''\n",
    "\n",
    "    lin = con+toc+toc_2+cat\n",
    "\n",
    "    return lin"
   ]
  },
  {
   "cell_type": "code",
   "execution_count": 52,
   "id": "09629030",
   "metadata": {},
   "outputs": [
    {
     "name": "stdout",
     "output_type": "stream",
     "text": [
      "<div style=\"background: #eee; border: 1px solid #ccc; padding: 5px 10px;\"><strong>Table of Content</strong> <ol style=\"margin-bottom: 0px;\" type=\"1\"> <li style=\"text-align: left;\"><a href=\"#1\" target=\"_blank\">NIT Rourkela Placement 2023: Placement Statistics</a></li> <li style=\"text-align: left;\"><a href=\"#2\" target=\"_blank\">NIT Rourkela Placements 2023: Department – Wise Package</a></li> <li style=\"text-align: left;\"><a href=\"#4\" target=\"_blank\">NIT Rourkela Placement 2023: Highest Salary Trends </a></li> <li style=\"text-align: left;\"><a href=\"#5\" target=\"_blank\">NIT Rourkela Placement 2023: Internship Data</a></li> <li style=\"text-align: left;\"><a href=\"#6\" target=\"_blank\">NIT Rourkela Placement 2023: Top Recruiters</a></li> <li style=\"text-align: left;\"><a href=\"#7\" target=\"_blank\">NIT Rourkela Placement 2023: FAQs</a></li> </ol> <p style=\"margin-left: 40px; margin-bottom: 0px;\">3.1 <a href=\"#3\" target=\"_blank\">NIT Rourkela Placements 2023: Course – Wise Package</a></p> </div>  <div class=\"cdcms_ranking\"> <ol start=\"4\" style=\"list-style-type: decimal; margin-bottom: 0px;\" type=\"1\"> <h1>NIT Rourkela Placement 2023: Placement Statistics, Highest Package, Average Package, and Top Companies</h1> <p style=\"text-align: justify;\">The National Institute of Technology Rourkela offers a comprehensive range of undergraduate, postgraduate, and doctoral programs across various disciplines. The placement report for the year 2023 at NIT Rourkela has not yet been made public yet. As of placement drive 2022, NIT Rourkela had already completed its placement for the graduating batch. The NIT Rourkela placement record showed amazing growth where 325 companies participated in the previous year. The highest package offered at <a href=\"https://zollege.in/university/183581-national-institute-of-technology-nit-rourkela\" target=\"_blank\"><strong>NIT Rourkela</strong></a> was INR 46.08 LPA. The total number of new recruiters in the year 2022 was 100. The total number of offers made was 1274 during the NIT Rourkela placement. The batch passing out in 2022 had access to 403 internship opportunities. Top companies like Software, Manufacturing, Electronics, Software &amp; IT Services, Amazon, CitiBank, Bajaj Auto, Apple, Google, and VISA visited the campus for recruitment purposes.</p> <h2 id=\"1\">NIT Rourkela Placement 2023: Placement Statistics</h2> <p style=\"text-align: justify;\">The placement report for the year 2023 at NIT Rourkela has not been released yet. The following table presents the main highlights of NIT Rourkela placements for the graduating classes of 2021 and 2022.</p> <table class=\"table table-striped style_table\"> <tbody> <tr> <td> <p style=\"text-align: justify;\"><strong>Particulars</strong></p> </td> <td> <p style=\"text-align: justify;\"><strong>Placement Statistics 2022</strong></p> </td> <td> <p style=\"text-align: justify;\"><strong>Placement Statistics 2021</strong></p> </td> </tr> <tr> <td> <p style=\"text-align: justify;\">Highest CTC</p> </td> <td> <p style=\"text-align: justify;\">INR 46.08 LPA</p> </td> <td> <p style=\"text-align: justify;\">INR 48.84 LPA</p> </td> </tr> <tr> <td> <p style=\"text-align: justify;\">Average CTC</p> </td> <td> <p style=\"text-align: justify;\">-</p> </td> <td> <p style=\"text-align: justify;\">INR 11.15 LPA</p> </td> </tr> <tr> <td> <p style=\"text-align: justify;\">Minimum CTC</p> </td> <td> <p style=\"text-align: justify;\">-</p> </td> <td> <p style=\"text-align: justify;\">INR 2.60 LPA</p> </td> </tr> <tr> <td> <p style=\"text-align: justify;\">Total Offers</p> </td> <td> <p style=\"text-align: justify;\">1274</p> </td> <td> <p style=\"text-align: justify;\">1316</p> </td> </tr> <tr> <td> <p style=\"text-align: justify;\">Total Recruiters</p> </td> <td> <p style=\"text-align: justify;\">325</p> </td> <td> <p style=\"text-align: justify;\">-</p> </td> </tr> <tr> <td> <p style=\"text-align: justify;\">New Recruiters</p> </td> <td> <p style=\"text-align: justify;\">100</p> </td> <td> <p style=\"text-align: justify;\">-</p> </td> </tr> <tr> <td> <p style=\"text-align: justify;\">Top Recruiters</p> </td> <td> <p style=\"text-align: justify;\">Apple, Google, VISA, Oracle, Amazon, Microsoft</p> </td> <td> <p style=\"text-align: justify;\">Amazon, CitiBank, Bajaj Auto</p> </td> </tr> </tbody> </table> <h2 id=\"2\">NIT Rourkela Placements 2023: Department – Wise Package</h2> <p style=\"text-align: justify;\">The statistics for NIT Rourkela placements 2023 will be declared later. Meanwhile, candidates can check department-wise NIT Rourkela placement 2022. Given below is the average B.Tech CTC of NIT Rourkela CSE and EEE departments.</p> <table class=\"table table-striped style_table\"> <tbody> <tr> <td> <p style=\"text-align: justify;\"><strong>Course</strong></p> </td> <td> <p style=\"text-align: justify;\"><strong>Average CTC Offered 2022</strong></p> </td> </tr> <tr> <td> <p style=\"text-align: justify;\">CSE</p> </td> <td> <p style=\"text-align: justify;\">INR 20.11 LPA</p> </td> </tr> <tr> <td> <p style=\"text-align: justify;\">EEE</p> </td> <td> <p style=\"text-align: justify;\">INR 17.27 LPA</p> </td> </tr> </tbody> </table> <h3 id=\"3\">NIT Rourkela Placements 2023: Course – Wise Package</h3> <p style=\"text-align: justify;\">The course-wise placement for NIT Rourkela 2023 will be declared later. Meanwhile, candidates can check the NIT Rourkela average package, number of job offers, and highest package in the year 2021 to get an idea of NIT Rourkela placement statistics.</p> <table class=\"table table-striped style_table\"> <tbody> <tr> <td> <p style=\"text-align: justify;\"><strong>Programs</strong></p> </td> <td> <p style=\"text-align: justify;\"><strong>Job Offers</strong></p> </td> <td> <p style=\"text-align: justify;\"><strong>Average CTC</strong></p> </td> <td> <p style=\"text-align: justify;\"><strong>Highest CTC</strong></p> </td> </tr> <tr> <td> <p style=\"text-align: justify;\"><a href=\"https://zollege.in/courses/bachelor-of-technology-btech\" target=\"_blank\"><strong>B.Tech</strong></a></p> </td> <td> <p style=\"text-align: justify;\">786</p> </td> <td> <p style=\"text-align: justify;\">INR 12.56 LPA</p> </td> <td> <p style=\"text-align: justify;\">INR 48.84 LPA</p> </td> </tr> <tr> <td> <p style=\"text-align: justify;\">M.Tech</p> </td> <td> <p style=\"text-align: justify;\">410</p> </td> <td> <p style=\"text-align: justify;\">INR 9.69 LPA</p> </td> <td> <p style=\"text-align: justify;\">INR 46.08 LPA</p> </td> </tr> <tr> <td> <p style=\"text-align: justify;\"><a href=\"https://zollege.in/courses/master-of-business-administration-mba\" target=\"_blank\"><strong>MBA</strong></a></p> </td> <td> <p style=\"text-align: justify;\">19</p> </td> <td> <p style=\"text-align: justify;\">INR 5.79 LPA</p> </td> <td> <p style=\"text-align: justify;\">INR 7.60 LPA</p> </td> </tr> <tr> <td> <p style=\"text-align: justify;\"><a href=\"https://zollege.in/courses/master-of-science-msc\" target=\"_blank\"><strong>M.Sc</strong></a></p> </td> <td> <p style=\"text-align: justify;\">29</p> </td> <td> <p style=\"text-align: justify;\">INR 5.39 LPA</p> </td> <td> <p style=\"text-align: justify;\">INR 8.50 LPA</p> </td> </tr> <tr> <td> <p style=\"text-align: justify;\">Integrated M.Sc</p> </td> <td> <p style=\"text-align: justify;\">17</p> </td> <td> <p style=\"text-align: justify;\">INR 5.97 LPA</p> </td> <td> <p style=\"text-align: justify;\">INR 11.40 LPA</p> </td> </tr> <tr> <td> <p style=\"text-align: justify;\"><a href=\"https://zollege.in/courses/master-of-arts-ma\" target=\"_blank\"><strong>MA</strong></a></p> </td> <td> <p style=\"text-align: justify;\">3</p> </td> <td> <p style=\"text-align: justify;\">INR 5.53 LPA</p> </td> <td> <p style=\"text-align: justify;\">INR 7 LPA</p> </td> </tr> <tr> <td> <p style=\"text-align: justify;\"><a href=\"https://zollege.in/courses/phd\" target=\"_blank\"><strong>PhD</strong></a></p> </td> <td> <p style=\"text-align: justify;\">14</p> </td> <td> <p style=\"text-align: justify;\">INR 11.49 LPA</p> </td> <td> <p style=\"text-align: justify;\">INR 22.19 LPA</p> </td> </tr> </tbody> </table> <h2 id=\"4\">NIT Rourkela Placement 2023: Highest Salary Trends </h2> <p style=\"text-align: justify;\">When examining the highest package trends, NIT Rourkela placements have observed a downfall in the year 2022 compared to the other two years. The NIT Rourkela placement highest package 2023 is yet to be released. Though, in 2022 the highest package reached INR 46.08 LPA.</p> <table class=\"table table-striped style_table\"> <tbody> <tr> <td> <p style=\"text-align: justify;\"><strong>Particular</strong></p> </td> <td> <p style=\"text-align: justify;\"><strong>2022</strong></p> </td> <td> <p style=\"text-align: justify;\"><strong>2021</strong></p> </td> <td> <p style=\"text-align: justify;\"><strong>2020</strong></p> </td> </tr> <tr> <td> <p style=\"text-align: justify;\">Highest CTC </p> </td> <td> <p style=\"text-align: justify;\">INR 46.08 LPA</p> </td> <td> <p style=\"text-align: justify;\">INR 48.84 LPA</p> </td> <td> <p style=\"text-align: justify;\">INR 45 LPA</p> </td> </tr> </tbody> </table> <h2 id=\"5\">NIT Rourkela Placement 2023: Internship Data</h2> <p style=\"text-align: justify;\">NIT Rourkela internship data 2023 will be declared later. Meanwhile, candidates can check the previous year’s internship statistics. As per information from media sources, the students graduating in 2022 bagged a total of 403 internship opportunities at NIT Rourkela. The recruiters offered the highest stipend of INR 1.25 lakh per month to the interns. Given below is the NIT Rourkela internships for 2022.</p> <table class=\"table table-striped style_table\"> <tbody> <tr> <td> <p style=\"text-align: justify;\"><strong>Particulars</strong></p> </td> <td> <p style=\"text-align: justify;\"><strong>Statistics</strong></p> </td> </tr> <tr> <td> <p style=\"text-align: justify;\">Average Stipend</p> </td> <td> <p style=\"text-align: justify;\">INR 40,000 per month</p> </td> </tr> <tr> <td> <p style=\"text-align: justify;\">Highest Stipend</p> </td> <td> <p style=\"text-align: justify;\">INR 1.25 Lakhs per month</p> </td> </tr> <tr> <td> <p style=\"text-align: justify;\">Total Offers</p> </td> <td> <p style=\"text-align: justify;\">403</p> </td> </tr> </tbody> </table> <h2 id=\"6\">NIT Rourkela Placement 2023: Top Recruiters</h2> <p style=\"text-align: justify;\">Given below are the top 10 recruiters who visited the NIT Rourkela for recruitment purposes.</p> <div> </div><div class=\"cdcms_faqs\"> <h2 id=\"7\">NIT Rourkela Placement 2023: FAQs</h2>\n",
      "<div id=\"faq_id\"> <div id=\"faq_id\"> </div><p class=\"accordio\" style=\"text-align: justify;\"><strong>Ques. What is the highest package offered during NIT Rourkela placement MTech?</strong></p><div class=\"liv\"> <div> <p style=\"text-align: justify;\"><strong><strong>Ans</strong></strong>. The highest package offered is INR 46.08 LPA for the NIT Rourkela <a href=\"https://zollege.in/courses/master-of-technology-mtech\" target=\"_blank\"><strong>MTech</strong></a> course in the year 2021.</p> </div> </div><p class=\"accordio\" style=\"text-align: justify;\"><strong>Ques. What is the average package offered during NIT Rourkela MBA placement?</strong></p><div class=\"liv\"> <div> <p style=\"text-align: justify;\"><strong><strong>Ans</strong></strong>. The NIT Rourkela MBA average package is INR 7-8 LPA in the year 2022.</p> </div> </div><p class=\"accordio\" style=\"text-align: justify;\"><strong>Ques. What is the highest package offered during NIT Rourkela MTech CSE placements?</strong></p><div class=\"liv\"> <div> <p style=\"text-align: justify;\"><strong><strong>Ans</strong></strong>. The highest package offered in NIT Rourkela Placements CSE is INR 20.11 LPA in the year 2022.</p> </div> </div><p class=\"accordio\" style=\"text-align: justify;\"><strong>Ques. What is the average package offered during NIT Rourkela Electrical Engineering placements?</strong></p><div class=\"liv\"> <div> <p style=\"text-align: justify;\"><strong><strong>Ans</strong></strong>. In the year 2022, the average package offered in the Electrical Engineering department is INR 17.27 LPA. </p> </div> </div><p class=\"accordio\" style=\"text-align: justify;\"><strong>Ques. How many new recruiters are there during the NIT Rourkela MTech placement 2022?</strong></p><div class=\"liv\"> <div> <p style=\"text-align: justify;\"><strong><strong>Ans</strong></strong>. A total of 100 new recruiters are there during the NIT Rourkela MTech placement in the year 2022. </p> </div> </div><p class=\"accordio\" style=\"text-align: justify;\"><strong>Ques. What was the highest package offered in NIT Rourkela MSc mathematics placements?</strong></p><div class=\"liv\"> <div> <p style=\"text-align: justify;\"><strong><strong>Ans</strong></strong>. The NIT Rourkela highest package offered in MSc mathematics in the year 2021 is INR 8.50 LPA.</p> </div> </div><p class=\"accordio\" style=\"text-align: justify;\"><strong>Ques. What was the NIT Rourkela placement record for the internship in 2022 at the institution?</strong></p><div class=\"liv\"> <div> <p style=\"text-align: justify;\"><strong><strong>Ans</strong></strong>. The students graduating in 2022 were presented with a total of 403 internship opportunities at NIT Rourkela. The recruiters offered the highest stipend of INR 1.25 lakh per month to the interns.</p> </div> </div><p class=\"accordio\" style=\"text-align: justify;\"><strong>Ques. Who are the top recruiters of NIT Rourkela?</strong></p><div class=\"liv\"> <div> <p style=\"text-align: justify;\"><strong><strong>Ans</strong></strong>. The top recruiters like Apple, Google, VISA, Oracle, Amazon, Microsoft</p> <p style=\"text-align: justify;\">Amazon, CitiBank, Bajaj Auto, etc visit the NIT Rourkela campus for recruitment purposes.</p> </div> </div></div> </div></ol></div>\n"
     ]
    }
   ],
   "source": [
    "clean_2 = clean_html(clean)\n",
    "count = 0\n",
    "result = re.sub(r'<(h2|h3)>', increment_id, clean_2)\n",
    "\n",
    "from bs4 import BeautifulSoup\n",
    "\n",
    "\n",
    "soup = BeautifulSoup(result, 'html.parser')\n",
    "\n",
    "\n",
    "for a_tag in soup.find_all('a'):\n",
    "    if not a_tag.has_attr('target'):\n",
    "        a_tag['target'] = '_blank'\n",
    "\n",
    "if str(clean).find('collegedunia')>0:\n",
    "    print('collegedunia links are present')\n",
    "else:    \n",
    "    import pyperclip\n",
    "#     toc = str(toc_create(soup))\n",
    "#     soup = str(soup)\n",
    "#     pyperclip.copy(toc+str(soup))\n",
    "    toc_create(soup)\n",
    "    print(soup)"
   ]
  },
  {
   "cell_type": "code",
   "execution_count": 48,
   "id": "b98c3ce8",
   "metadata": {
    "scrolled": false
   },
   "outputs": [],
   "source": [
    "var1= toc_create(soup)\n",
    "var1 = str(var1)\n",
    "var2 = str(soup)\n",
    "var3 = \"{}  {} \".format(var1, var2)\n",
    "pyperclip.copy(var3)"
   ]
  },
  {
   "cell_type": "code",
   "execution_count": 49,
   "id": "bdb04179",
   "metadata": {},
   "outputs": [
    {
     "name": "stdout",
     "output_type": "stream",
     "text": [
      "Copied Code Succesfully...\n"
     ]
    }
   ],
   "source": [
    "print('Copied Code Succesfully...')"
   ]
  },
  {
   "cell_type": "code",
   "execution_count": null,
   "id": "65ef9866",
   "metadata": {},
   "outputs": [],
   "source": []
  },
  {
   "cell_type": "code",
   "execution_count": null,
   "id": "6c83739d",
   "metadata": {},
   "outputs": [],
   "source": []
  }
 ],
 "metadata": {
  "kernelspec": {
   "display_name": "Python 3 (ipykernel)",
   "language": "python",
   "name": "python3"
  },
  "language_info": {
   "codemirror_mode": {
    "name": "ipython",
    "version": 3
   },
   "file_extension": ".py",
   "mimetype": "text/x-python",
   "name": "python",
   "nbconvert_exporter": "python",
   "pygments_lexer": "ipython3",
   "version": "3.8.10"
  }
 },
 "nbformat": 4,
 "nbformat_minor": 5
}
